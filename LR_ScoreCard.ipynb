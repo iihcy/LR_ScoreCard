{
 "cells": [
  {
   "cell_type": "markdown",
   "metadata": {},
   "source": [
    "# # 逻辑回归评分模型"
   ]
  },
  {
   "cell_type": "code",
   "execution_count": 1,
   "metadata": {},
   "outputs": [],
   "source": [
    "import pandas as pd\n",
    "import numpy as np"
   ]
  },
  {
   "cell_type": "code",
   "execution_count": 27,
   "metadata": {},
   "outputs": [],
   "source": [
    "from sklearn import metrics\n",
    "from sklearn.metrics import roc_auc_score, roc_curve, auc\n",
    "from sklearn.linear_model import LogisticRegression\n",
    "from matplotlib import pyplot as plt"
   ]
  },
  {
   "cell_type": "code",
   "execution_count": 3,
   "metadata": {},
   "outputs": [],
   "source": [
    "# 1.获取数据集"
   ]
  },
  {
   "cell_type": "code",
   "execution_count": 4,
   "metadata": {},
   "outputs": [
    {
     "name": "stdout",
     "output_type": "stream",
     "text": [
      "(95806, 13)\n",
      "columns: ['obs_mth', 'bad_ind', 'uid', 'td_score', 'jxl_score', 'mj_score', 'rh_score', 'zzc_score', 'zcx_score', 'person_info', 'finance_info', 'credit_info', 'act_info']\n"
     ]
    },
    {
     "data": {
      "text/html": [
       "<div>\n",
       "<style scoped>\n",
       "    .dataframe tbody tr th:only-of-type {\n",
       "        vertical-align: middle;\n",
       "    }\n",
       "\n",
       "    .dataframe tbody tr th {\n",
       "        vertical-align: top;\n",
       "    }\n",
       "\n",
       "    .dataframe thead th {\n",
       "        text-align: right;\n",
       "    }\n",
       "</style>\n",
       "<table border=\"1\" class=\"dataframe\">\n",
       "  <thead>\n",
       "    <tr style=\"text-align: right;\">\n",
       "      <th></th>\n",
       "      <th>obs_mth</th>\n",
       "      <th>bad_ind</th>\n",
       "      <th>uid</th>\n",
       "      <th>td_score</th>\n",
       "      <th>jxl_score</th>\n",
       "      <th>mj_score</th>\n",
       "      <th>rh_score</th>\n",
       "      <th>zzc_score</th>\n",
       "      <th>zcx_score</th>\n",
       "      <th>person_info</th>\n",
       "      <th>finance_info</th>\n",
       "      <th>credit_info</th>\n",
       "      <th>act_info</th>\n",
       "    </tr>\n",
       "  </thead>\n",
       "  <tbody>\n",
       "    <tr>\n",
       "      <th>0</th>\n",
       "      <td>2018-10-31</td>\n",
       "      <td>0.0</td>\n",
       "      <td>A10000005</td>\n",
       "      <td>0.675349</td>\n",
       "      <td>0.144072</td>\n",
       "      <td>0.186899</td>\n",
       "      <td>0.483640</td>\n",
       "      <td>0.928328</td>\n",
       "      <td>0.369644</td>\n",
       "      <td>-0.322581</td>\n",
       "      <td>0.023810</td>\n",
       "      <td>0.00</td>\n",
       "      <td>0.217949</td>\n",
       "    </tr>\n",
       "    <tr>\n",
       "      <th>1</th>\n",
       "      <td>2018-07-31</td>\n",
       "      <td>0.0</td>\n",
       "      <td>A1000002</td>\n",
       "      <td>0.825269</td>\n",
       "      <td>0.398688</td>\n",
       "      <td>0.139396</td>\n",
       "      <td>0.843725</td>\n",
       "      <td>0.605194</td>\n",
       "      <td>0.406122</td>\n",
       "      <td>-0.128677</td>\n",
       "      <td>0.023810</td>\n",
       "      <td>0.00</td>\n",
       "      <td>0.423077</td>\n",
       "    </tr>\n",
       "    <tr>\n",
       "      <th>2</th>\n",
       "      <td>2018-09-30</td>\n",
       "      <td>0.0</td>\n",
       "      <td>A1000011</td>\n",
       "      <td>0.315406</td>\n",
       "      <td>0.629745</td>\n",
       "      <td>0.535854</td>\n",
       "      <td>0.197392</td>\n",
       "      <td>0.614416</td>\n",
       "      <td>0.320731</td>\n",
       "      <td>0.062660</td>\n",
       "      <td>0.023810</td>\n",
       "      <td>0.10</td>\n",
       "      <td>0.448718</td>\n",
       "    </tr>\n",
       "    <tr>\n",
       "      <th>3</th>\n",
       "      <td>2018-07-31</td>\n",
       "      <td>0.0</td>\n",
       "      <td>A10000481</td>\n",
       "      <td>0.002386</td>\n",
       "      <td>0.609360</td>\n",
       "      <td>0.366081</td>\n",
       "      <td>0.342243</td>\n",
       "      <td>0.870006</td>\n",
       "      <td>0.288692</td>\n",
       "      <td>0.078853</td>\n",
       "      <td>0.071429</td>\n",
       "      <td>0.05</td>\n",
       "      <td>0.179487</td>\n",
       "    </tr>\n",
       "    <tr>\n",
       "      <th>4</th>\n",
       "      <td>2018-07-31</td>\n",
       "      <td>0.0</td>\n",
       "      <td>A1000069</td>\n",
       "      <td>0.406310</td>\n",
       "      <td>0.405352</td>\n",
       "      <td>0.783015</td>\n",
       "      <td>0.563953</td>\n",
       "      <td>0.715454</td>\n",
       "      <td>0.512554</td>\n",
       "      <td>-0.261014</td>\n",
       "      <td>0.023810</td>\n",
       "      <td>0.00</td>\n",
       "      <td>0.423077</td>\n",
       "    </tr>\n",
       "  </tbody>\n",
       "</table>\n",
       "</div>"
      ],
      "text/plain": [
       "      obs_mth  bad_ind        uid  td_score  jxl_score  mj_score  rh_score  \\\n",
       "0  2018-10-31      0.0  A10000005  0.675349   0.144072  0.186899  0.483640   \n",
       "1  2018-07-31      0.0   A1000002  0.825269   0.398688  0.139396  0.843725   \n",
       "2  2018-09-30      0.0   A1000011  0.315406   0.629745  0.535854  0.197392   \n",
       "3  2018-07-31      0.0  A10000481  0.002386   0.609360  0.366081  0.342243   \n",
       "4  2018-07-31      0.0   A1000069  0.406310   0.405352  0.783015  0.563953   \n",
       "\n",
       "   zzc_score  zcx_score  person_info  finance_info  credit_info  act_info  \n",
       "0   0.928328   0.369644    -0.322581      0.023810         0.00  0.217949  \n",
       "1   0.605194   0.406122    -0.128677      0.023810         0.00  0.423077  \n",
       "2   0.614416   0.320731     0.062660      0.023810         0.10  0.448718  \n",
       "3   0.870006   0.288692     0.078853      0.071429         0.05  0.179487  \n",
       "4   0.715454   0.512554    -0.261014      0.023810         0.00  0.423077  "
      ]
     },
     "execution_count": 4,
     "metadata": {},
     "output_type": "execute_result"
    }
   ],
   "source": [
    "data = pd.read_csv('Acard.txt')\n",
    "print(data.shape)\n",
    "print('columns:',list(data.columns))\n",
    "data.head()"
   ]
  },
  {
   "cell_type": "code",
   "execution_count": 5,
   "metadata": {},
   "outputs": [
    {
     "data": {
      "text/plain": [
       "array(['2018-10-31', '2018-07-31', '2018-09-30', '2018-06-30',\n",
       "       '2018-11-30'], dtype=object)"
      ]
     },
     "execution_count": 5,
     "metadata": {},
     "output_type": "execute_result"
    }
   ],
   "source": [
    "# 查看时间片段\n",
    "data.obs_mth.unique()"
   ]
  },
  {
   "cell_type": "code",
   "execution_count": 6,
   "metadata": {},
   "outputs": [
    {
     "data": {
      "text/html": [
       "<div>\n",
       "<style scoped>\n",
       "    .dataframe tbody tr th:only-of-type {\n",
       "        vertical-align: middle;\n",
       "    }\n",
       "\n",
       "    .dataframe tbody tr th {\n",
       "        vertical-align: top;\n",
       "    }\n",
       "\n",
       "    .dataframe thead th {\n",
       "        text-align: right;\n",
       "    }\n",
       "</style>\n",
       "<table border=\"1\" class=\"dataframe\">\n",
       "  <thead>\n",
       "    <tr style=\"text-align: right;\">\n",
       "      <th></th>\n",
       "      <th>obs_mth</th>\n",
       "      <th>counts</th>\n",
       "    </tr>\n",
       "  </thead>\n",
       "  <tbody>\n",
       "    <tr>\n",
       "      <th>0</th>\n",
       "      <td>2018-06-30</td>\n",
       "      <td>20565</td>\n",
       "    </tr>\n",
       "    <tr>\n",
       "      <th>1</th>\n",
       "      <td>2018-07-31</td>\n",
       "      <td>34030</td>\n",
       "    </tr>\n",
       "    <tr>\n",
       "      <th>2</th>\n",
       "      <td>2018-09-30</td>\n",
       "      <td>10709</td>\n",
       "    </tr>\n",
       "    <tr>\n",
       "      <th>3</th>\n",
       "      <td>2018-10-31</td>\n",
       "      <td>14527</td>\n",
       "    </tr>\n",
       "    <tr>\n",
       "      <th>4</th>\n",
       "      <td>2018-11-30</td>\n",
       "      <td>15975</td>\n",
       "    </tr>\n",
       "  </tbody>\n",
       "</table>\n",
       "</div>"
      ],
      "text/plain": [
       "      obs_mth  counts\n",
       "0  2018-06-30   20565\n",
       "1  2018-07-31   34030\n",
       "2  2018-09-30   10709\n",
       "3  2018-10-31   14527\n",
       "4  2018-11-30   15975"
      ]
     },
     "execution_count": 6,
     "metadata": {},
     "output_type": "execute_result"
    }
   ],
   "source": [
    "# 统计月份的样本数--取最后一个月的样本作为时间外样本集\n",
    "month_samples_count = data.obs_mth.groupby(data.obs_mth).count().to_frame().rename(columns={'obs_mth':'counts'}).reset_index()\n",
    "month_samples_count"
   ]
  },
  {
   "cell_type": "code",
   "execution_count": 7,
   "metadata": {},
   "outputs": [],
   "source": [
    "# 2.建立评分卡 "
   ]
  },
  {
   "cell_type": "code",
   "execution_count": 8,
   "metadata": {},
   "outputs": [
    {
     "name": "stdout",
     "output_type": "stream",
     "text": [
      "(79831, 13)\n",
      "(15975, 13)\n"
     ]
    }
   ],
   "source": [
    "# 数据划分\n",
    "train = data[data.obs_mth!='2018-11-30']\n",
    "print(train.shape)\n",
    "val = data[data.obs_mth=='2018-11-30']\n",
    "print(val.shape)"
   ]
  },
  {
   "cell_type": "code",
   "execution_count": 13,
   "metadata": {},
   "outputs": [
    {
     "name": "stdout",
     "output_type": "stream",
     "text": [
      "(79831, 4)\n",
      "(79831,)\n",
      "(15975, 4)\n",
      "(15975,)\n"
     ]
    }
   ],
   "source": [
    "feature_list = ['person_info', 'finance_info', 'credit_info', 'act_info']\n",
    "train_x = train[feature_list]\n",
    "train_y = train['bad_ind']\n",
    "\n",
    "val_x = val[feature_list]\n",
    "val_y = val['bad_ind']\n",
    "\n",
    "print(train_x.shape)\n",
    "print(train_y.shape)\n",
    "print(val_x.shape)\n",
    "print(val_y.shape)"
   ]
  },
  {
   "cell_type": "code",
   "execution_count": 14,
   "metadata": {},
   "outputs": [
    {
     "data": {
      "text/plain": [
       "LogisticRegression(C=0.1, class_weight='balanced', dual=False,\n",
       "          fit_intercept=True, intercept_scaling=1, max_iter=100,\n",
       "          multi_class='ovr', n_jobs=1, penalty='l2', random_state=None,\n",
       "          solver='liblinear', tol=0.0001, verbose=0, warm_start=False)"
      ]
     },
     "execution_count": 14,
     "metadata": {},
     "output_type": "execute_result"
    }
   ],
   "source": [
    "lr_model = LogisticRegression(C=0.1, class_weight='balanced')\n",
    "lr_model.fit(train_x, train_y)"
   ]
  },
  {
   "cell_type": "code",
   "execution_count": 26,
   "metadata": {},
   "outputs": [
    {
     "name": "stdout",
     "output_type": "stream",
     "text": [
      "train_ks:0.4482453222991063\n",
      "val_ks:0.4198642457760936\n"
     ]
    }
   ],
   "source": [
    "# 训练集\n",
    "train_y_pro = lr_model.predict_proba(train_x)[:,1]\n",
    "fpr_train, tpr_train, _ = roc_curve(train_y, train_y_pro)\n",
    "print('train_ks:{}'.format(abs(fpr_train - tpr_train).max()))\n",
    "# 测试集\n",
    "val_y_pro = lr_model.predict_proba(val_x)[:,1]\n",
    "fpr_val, tpr_val, _ = roc_curve(val_y, val_y_pro)\n",
    "print('val_ks:{}'.format(abs(fpr_val - tpr_val).max()))"
   ]
  },
  {
   "cell_type": "code",
   "execution_count": 33,
   "metadata": {},
   "outputs": [
    {
     "data": {
      "image/png": "[encoded data removed]",
      "text/plain": [
       "<matplotlib.figure.Figure at 0x2154248eb70>"
      ]
     },
     "metadata": {},
     "output_type": "display_data"
    }
   ],
   "source": [
    "# ROC曲线\n",
    "plt.plot([0,1], [0,1], 'k--')\n",
    "plt.plot(fpr_train, tpr_train, label='Train LR')\n",
    "plt.plot(fpr_val, tpr_val, label='Val LR')\n",
    "plt.xlabel('False positive rate')\n",
    "plt.ylabel('True positive rate')\n",
    "plt.title('ROC')\n",
    "plt.legend(loc='best')\n",
    "plt.show()"
   ]
  },
  {
   "cell_type": "code",
   "execution_count": 68,
   "metadata": {},
   "outputs": [
    {
     "data": {
      "text/html": [
       "<div>\n",
       "<style scoped>\n",
       "    .dataframe tbody tr th:only-of-type {\n",
       "        vertical-align: middle;\n",
       "    }\n",
       "\n",
       "    .dataframe tbody tr th {\n",
       "        vertical-align: top;\n",
       "    }\n",
       "\n",
       "    .dataframe thead th {\n",
       "        text-align: right;\n",
       "    }\n",
       "</style>\n",
       "<table border=\"1\" class=\"dataframe\">\n",
       "  <thead>\n",
       "    <tr style=\"text-align: right;\">\n",
       "      <th></th>\n",
       "      <th>score</th>\n",
       "    </tr>\n",
       "  </thead>\n",
       "  <tbody>\n",
       "    <tr>\n",
       "      <th>0</th>\n",
       "      <td>571.583553</td>\n",
       "    </tr>\n",
       "    <tr>\n",
       "      <th>1</th>\n",
       "      <td>588.164248</td>\n",
       "    </tr>\n",
       "    <tr>\n",
       "      <th>2</th>\n",
       "      <td>631.711351</td>\n",
       "    </tr>\n",
       "    <tr>\n",
       "      <th>3</th>\n",
       "      <td>678.252664</td>\n",
       "    </tr>\n",
       "    <tr>\n",
       "      <th>4</th>\n",
       "      <td>565.041016</td>\n",
       "    </tr>\n",
       "  </tbody>\n",
       "</table>\n",
       "</div>"
      ],
      "text/plain": [
       "        score\n",
       "0  571.583553\n",
       "1  588.164248\n",
       "2  631.711351\n",
       "3  678.252664\n",
       "4  565.041016"
      ]
     },
     "execution_count": 68,
     "metadata": {},
     "output_type": "execute_result"
    }
   ],
   "source": [
    "# 模型分数\n",
    "def score(pro):\n",
    "    score = 650 + 50 * np.log(pro/(1-pro))\n",
    "    return score\n",
    "\n",
    "df_pro = np.hstack((train_y_pro, val_y_pro))\n",
    "score = score(df_pro)\n",
    "score = pd.Series(score).to_frame().rename(columns={0:'score'})\n",
    "score.head()"
   ]
  },
  {
   "cell_type": "code",
   "execution_count": null,
   "metadata": {},
   "outputs": [],
   "source": []
  }
 ],
 "metadata": {
  "kernelspec": {
   "display_name": "Python 3",
   "language": "python",
   "name": "python3"
  },
  "language_info": {
   "codemirror_mode": {
    "name": "ipython",
    "version": 3
   },
   "file_extension": ".py",
   "mimetype": "text/x-python",
   "name": "python",
   "nbconvert_exporter": "python",
   "pygments_lexer": "ipython3",
   "version": "3.6.4"
  }
 },
 "nbformat": 4,
 "nbformat_minor": 2
}
